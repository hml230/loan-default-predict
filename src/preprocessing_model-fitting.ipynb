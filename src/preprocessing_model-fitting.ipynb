{
 "cells": [
  {
   "cell_type": "code",
   "execution_count": 1,
   "id": "2bb892ee-8f3f-4ac1-9f71-fe79210cb6aa",
   "metadata": {},
   "outputs": [],
   "source": [
    "import pandas as pd\n",
    "import numpy as np\n",
    "import yaml\n",
    "import csv\n",
    "from sklearn.model_selection import train_test_split\n",
    "import torch\n",
    "from torch.utils.data import TensorDataset, DataLoader\n",
    "from models_def import MultiLayerPerceptron, Bagging, TabularCNN, EarlyStopper, train_model, eval_model"
   ]
  },
  {
   "cell_type": "markdown",
   "id": "1e53c783-273d-4ca9-9d5d-82c52653cb7c",
   "metadata": {},
   "source": [
    "# Loading Data and Weights"
   ]
  },
  {
   "cell_type": "code",
   "execution_count": 2,
   "id": "a140aabb-8e42-4b82-9a21-a2ba17506f9b",
   "metadata": {},
   "outputs": [],
   "source": [
    "read_variables = [\"features\", \"default_ind\"]\n",
    "device = torch.device(\"cuda\")\n",
    "\n",
    "with open(\"config.yaml\") as f:\n",
    "    config = yaml.safe_load(f)\n",
    "data_path = config[\"processed_path\"] \n",
    "\n",
    "\n",
    "train_df = pd.read_parquet(f\"{data_path}/processed_train_test_data/train_df.parquet\", columns=read_variables)\n",
    "test_df = pd.read_parquet(f\"{data_path}/processed_train_test_data/test_df.parquet\", columns=read_variables)\n",
    "\n",
    "\n",
    "with open(f'{data_path}/class_weights_dict.csv') as csv_file:\n",
    "    reader = csv.reader(csv_file)\n",
    "    weights_dict = dict(reader)"
   ]
  },
  {
   "cell_type": "markdown",
   "id": "81bb139a-0280-4e74-996d-2ac96d4d4177",
   "metadata": {},
   "source": [
    "# Preparing Tensors for Models"
   ]
  },
  {
   "cell_type": "code",
   "execution_count": 3,
   "id": "462c7d3f-0d82-4e88-8698-3c93018e14d6",
   "metadata": {},
   "outputs": [],
   "source": [
    "X_train_full = np.array(train_df[\"features\"].tolist(), dtype=np.float32)\n",
    "y_train_full = train_df[\"default_ind\"].values.astype(np.float32)\n",
    "\n",
    "X_test = np.array(test_df[\"features\"].tolist(), dtype=np.float32)\n",
    "y_test = test_df[\"default_ind\"].values.astype(np.float32)"
   ]
  },
  {
   "cell_type": "code",
   "execution_count": 4,
   "id": "54435553-e0d2-45f1-86a5-6ade06aac0a7",
   "metadata": {},
   "outputs": [],
   "source": [
    "X_train, X_val, y_train, y_val = train_test_split(\n",
    "    X_train_full, y_train_full,\n",
    "    test_size=0.2, random_state=42, stratify=y_train_full\n",
    ")"
   ]
  },
  {
   "cell_type": "code",
   "execution_count": 5,
   "id": "ec178aeb-2def-43fa-9d69-b28c8ab208ce",
   "metadata": {},
   "outputs": [
    {
     "name": "stdout",
     "output_type": "stream",
     "text": [
      "[[3.7000e+03 1.2290e+01 1.2341e+02 ... 0.0000e+00 2.0000e+00 0.0000e+00]\n",
      " [8.0000e+03 1.1220e+01 2.6275e+02 ... 0.0000e+00 0.0000e+00 0.0000e+00]\n",
      " [1.0000e+04 1.3330e+01 3.3854e+02 ... 9.0000e+00 6.0000e+00 0.0000e+00]\n",
      " ...\n",
      " [1.5000e+04 1.2290e+01 5.0030e+02 ... 1.0000e+00 7.0000e+00 0.0000e+00]\n",
      " [2.9050e+04 2.0990e+01 7.8574e+02 ... 0.0000e+00 2.4000e+01 0.0000e+00]\n",
      " [3.5000e+04 1.6590e+01 8.6215e+02 ... 0.0000e+00 1.2000e+01 0.0000e+00]]\n"
     ]
    }
   ],
   "source": [
    "print(X_train)"
   ]
  },
  {
   "cell_type": "code",
   "execution_count": 6,
   "id": "2db35039-4276-46d1-818c-b966edcbec25",
   "metadata": {},
   "outputs": [],
   "source": [
    "train_tensor_ds = TensorDataset(torch.tensor(X_train, dtype=torch.float32),\n",
    "                            torch.tensor(y_train, dtype=torch.float32))\n",
    "\n",
    "\n",
    "val_tensor_ds = TensorDataset(torch.tensor(X_val, dtype=torch.float32),\n",
    "                            torch.tensor(y_val, dtype=torch.float32))\n",
    "\n",
    "\n",
    "test_tensor_ds = TensorDataset(torch.tensor(X_test, dtype=torch.float32),\n",
    "                            torch.tensor(y_test, dtype=torch.float32))"
   ]
  },
  {
   "cell_type": "code",
   "execution_count": 7,
   "id": "fcc8732e-8420-431e-be56-36d4c375e068",
   "metadata": {},
   "outputs": [],
   "source": [
    "train_loader = DataLoader(train_tensor_ds,\n",
    "                          batch_size=32,\n",
    "                          shuffle=True,\n",
    "                          pin_memory=True if device.type == 'cuda' else False)\n",
    "\n",
    "val_loader = DataLoader(val_tensor_ds, \n",
    "                        batch_size=32, \n",
    "                        shuffle=False, \n",
    "                        pin_memory=True if device.type == 'cuda' else False)\n",
    "\n",
    "test_loader = DataLoader(test_tensor_ds, \n",
    "                         batch_size=32,\n",
    "                         shuffle=True,\n",
    "                         pin_memory=True if device.type == 'cuda' else False)"
   ]
  },
  {
   "cell_type": "code",
   "execution_count": 8,
   "id": "f526a744-d447-4888-9922-e4dba0a34d06",
   "metadata": {},
   "outputs": [],
   "source": [
    "weights = torch.tensor([float(weights_dict['1']) / float(weights_dict['0'])],\n",
    "                       dtype=torch.float).to(device)"
   ]
  },
  {
   "cell_type": "markdown",
   "id": "3d17f6cd-207c-48ca-8706-3896d17af0bf",
   "metadata": {},
   "source": [
    "# Parameters and Model Training"
   ]
  },
  {
   "cell_type": "code",
   "execution_count": 9,
   "id": "a5e8f85d-24f2-4b3f-971f-dfec5362ceec",
   "metadata": {},
   "outputs": [],
   "source": [
    "num_features = X_train.shape[1]\n",
    "\n",
    "# Choose a model\n",
    "# model = MultiLayerPerceptron(num_features)\n",
    "# model = Bagging(num_features)\n",
    "model = TabularCNN(num_features)\n",
    "model = model.to(device)"
   ]
  },
  {
   "cell_type": "code",
   "execution_count": 10,
   "id": "5ea9dc98-0a6b-4253-9ae3-082f45caf614",
   "metadata": {},
   "outputs": [],
   "source": [
    "# Optimiser\n",
    "optimiser = torch.optim.Adam(model.parameters(), lr=0.001)\n",
    "\n",
    "# Loss function\n",
    "bce = torch.nn.BCEWithLogitsLoss(pos_weight=weights)"
   ]
  },
  {
   "cell_type": "code",
   "execution_count": 11,
   "id": "389bc776-dfb4-419b-a542-84efe027f799",
   "metadata": {
    "scrolled": true
   },
   "outputs": [
    {
     "name": "stdout",
     "output_type": "stream",
     "text": [
      "Epoch 1: Train Loss = 19706.7165, Val Loss = 1.0276, Val AUC = 0.8549\n",
      "Epoch 2: Train Loss = 18260.2678, Val Loss = 2.1816, Val AUC = 0.9057\n",
      "Epoch 3: Train Loss = 17857.1889, Val Loss = 8.2156, Val AUC = 0.4255\n",
      "Epoch 4: Train Loss = 17765.7053, Val Loss = 1.1693, Val AUC = 0.9155\n",
      "Epoch 5: Train Loss = 17614.4623, Val Loss = 2.1985, Val AUC = 0.9276\n",
      "Epoch 6: Train Loss = 17540.1293, Val Loss = 3.7620, Val AUC = 0.9012\n",
      "Stopped early at epoch 6\n"
     ]
    }
   ],
   "source": [
    "early_stopper = EarlyStopper(patience=5, min_delta=0.001)\n",
    "train_model(model, train_loader, val_loader, optimiser, bce, epochs=20, early_stop=early_stopper)"
   ]
  },
  {
   "cell_type": "code",
   "execution_count": 12,
   "id": "9032b5a5-82ac-4e80-b1e6-369cfcb9bce0",
   "metadata": {},
   "outputs": [
    {
     "name": "stdout",
     "output_type": "stream",
     "text": [
      "Test Accuracy: 0.9458884550381724\n",
      "Precision: 0.0\n",
      "Recall: 0.0\n",
      "ROC AUC: 0.9009592831143862\n"
     ]
    },
    {
     "name": "stderr",
     "output_type": "stream",
     "text": [
      "/home/mhl/ann/.venv/lib/python3.10/site-packages/sklearn/metrics/_classification.py:1706: UndefinedMetricWarning: Precision is ill-defined and being set to 0.0 due to no predicted samples. Use `zero_division` parameter to control this behavior.\n",
      "  _warn_prf(average, modifier, f\"{metric.capitalize()} is\", result.shape[0])\n"
     ]
    }
   ],
   "source": [
    "eval_model(model, test_loader)"
   ]
  }
 ],
 "metadata": {
  "kernelspec": {
   "display_name": "Python 3 (ipykernel)",
   "language": "python",
   "name": "python3"
  },
  "language_info": {
   "codemirror_mode": {
    "name": "ipython",
    "version": 3
   },
   "file_extension": ".py",
   "mimetype": "text/x-python",
   "name": "python",
   "nbconvert_exporter": "python",
   "pygments_lexer": "ipython3",
   "version": "3.10.12"
  }
 },
 "nbformat": 4,
 "nbformat_minor": 5
}
