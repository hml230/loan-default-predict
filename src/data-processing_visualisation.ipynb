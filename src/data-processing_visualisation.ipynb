{
 "cells": [
  {
   "cell_type": "code",
   "execution_count": null,
   "metadata": {},
   "outputs": [],
   "source": [
    "from pathlib import Path\n",
    "import yaml\n",
    "import csv\n",
    "import pandas as pd\n",
    "import numpy as np\n",
    "import matplotlib.pyplot as plt\n",
    "import seaborn as sns\n",
    "from pyspark.sql import SparkSession\n",
    "from pyspark.sql.functions import col, sum, when, unix_timestamp, datediff, lit, udf\n",
    "from pyspark.sql.types import DateType, DoubleType, ArrayType\n",
    "from pyspark.ml.feature import StandardScaler, StringIndexer, VectorAssembler\n",
    "from sklearn.utils.class_weight import compute_class_weight"
   ]
  },
  {
   "cell_type": "markdown",
   "metadata": {},
   "source": [
    "# Loan Default Classification"
   ]
  },
  {
   "cell_type": "markdown",
   "metadata": {
    "id": "n9QU2Oz4oRA3"
   },
   "source": [
    "## Load Data"
   ]
  },
  {
   "cell_type": "code",
   "execution_count": 2,
   "metadata": {
    "id": "4gJYWibnmkCo",
    "scrolled": true
   },
   "outputs": [
    {
     "name": "stderr",
     "output_type": "stream",
     "text": [
      "25/07/10 15:12:21 WARN Utils: Your hostname, Hyle resolves to a loopback address: 127.0.1.1; using 10.255.255.254 instead (on interface lo)\n",
      "25/07/10 15:12:21 WARN Utils: Set SPARK_LOCAL_IP if you need to bind to another address\n",
      "Setting default log level to \"WARN\".\n",
      "To adjust logging level use sc.setLogLevel(newLevel). For SparkR, use setLogLevel(newLevel).\n",
      "25/07/10 15:12:22 WARN NativeCodeLoader: Unable to load native-hadoop library for your platform... using builtin-java classes where applicable\n",
      "                                                                                "
     ]
    }
   ],
   "source": [
    "spark = SparkSession.builder.appName(\"Loan Default Analysis\").getOrCreate()\n",
    "\n",
    "\n",
    "with open(\"config.yaml\") as f:\n",
    "    config = yaml.safe_load(f)\n",
    "data_path = config[\"raw_data_path\"] + \"loan_default.csv\"\n",
    "\n",
    "\n",
    "df = spark.read.csv(data_path, header=True, inferSchema=True)"
   ]
  },
  {
   "cell_type": "markdown",
   "metadata": {
    "id": "AQcTrHnbolJI"
   },
   "source": [
    "## Data Preprocessing\n"
   ]
  },
  {
   "cell_type": "markdown",
   "metadata": {
    "id": "WND2Isj5lzQ0"
   },
   "source": [
    "### Check missing values"
   ]
  },
  {
   "cell_type": "code",
   "execution_count": 3,
   "metadata": {
    "colab": {
     "base_uri": "https://localhost:8080/"
    },
    "id": "uXDXjCp8ln2g",
    "outputId": "c7afbf7f-7c3b-4ae7-e311-007ed6750118"
   },
   "outputs": [
    {
     "name": "stdout",
     "output_type": "stream",
     "text": [
      "emp_title: 49439 nulls (5.78%)\n",
      "desc: 734155 nulls (85.77%)\n",
      "mths_since_last_delinq: 439669 nulls (51.37%)\n",
      "mths_since_last_record: 724613 nulls (84.65%)\n",
      "next_pymnt_d: 252751 nulls (29.53%)\n",
      "mths_since_last_major_derog: 642637 nulls (75.08%)\n",
      "annual_inc_joint: 855343 nulls (99.93%)\n",
      "dti_joint: 855382 nulls (99.93%)\n",
      "verification_status_joint: 855418 nulls (99.94%)\n",
      "tot_coll_amt: 67198 nulls (7.85%)\n",
      "tot_cur_bal: 67224 nulls (7.85%)\n",
      "open_acc_6m: 842600 nulls (98.44%)\n",
      "open_il_6m: 842616 nulls (98.44%)\n",
      "open_il_12m: 842638 nulls (98.44%)\n",
      "open_il_24m: 842647 nulls (98.44%)\n",
      "mths_since_rcnt_il: 843010 nulls (98.49%)\n",
      "total_bal_il: 842655 nulls (98.44%)\n",
      "il_util: 844337 nulls (98.64%)\n",
      "open_rv_12m: 842670 nulls (98.45%)\n",
      "open_rv_24m: 842664 nulls (98.45%)\n",
      "max_bal_bc: 842668 nulls (98.45%)\n",
      "all_util: 842675 nulls (98.45%)\n",
      "total_rev_hi_lim: 67311 nulls (7.86%)\n",
      "inq_fi: 842676 nulls (98.45%)\n",
      "total_cu_tl: 842672 nulls (98.45%)\n",
      "inq_last_12m: 842680 nulls (98.45%)\n"
     ]
    }
   ],
   "source": [
    "total_count = df.count()\n",
    "\n",
    "\n",
    "# Check null count of columns with >10% missing values\n",
    "for c in df.columns:\n",
    "    null_count = df.filter(col(c).isNull()).count()\n",
    "    null_percentage = (null_count / total_count) * 100\n",
    "    \n",
    "    if null_percentage > 5:\n",
    "        print(f\"{c}: {null_count} nulls ({null_percentage:.2f}%)\")"
   ]
  },
  {
   "cell_type": "markdown",
   "metadata": {
    "id": "aE30Ndwuq8Yk"
   },
   "source": [
    "The dataset is generally high quality, with most core financial and loan-related variables, such as `loan_amnt`, `dti`, `purpose`, and `default_ind` have complete or nearly complete data. A few optional fields like `emp_title` and `next_pymnt_d` show moderate missing values issue, likely due to their context-specific nature (e.g., next payment dates not applicable for closed loans).\n",
    "\n",
    "In contrast, joint applications variables (e.g., `annual_inc_joint`, `dti_joint`) and severe credit issues (`mths_since_last_major_derog`, `open_il_6m`) have over 90% missing values, reflecting either the rarity of such cases or the limited reporting across borrowers. These patterns suggest that the absence of data is largely structural and not due to random data loss. This pattern is reasonable since qualified borrowers would be very unlikely to exhibit delinquency if the lender's screening processes are appropriate.  \n",
    "\n",
    "Overall, the dataset is well-structured, with missing values concentrated in specialised fields that may not significantly contribution to predictive analysis."
   ]
  },
  {
   "cell_type": "markdown",
   "metadata": {
    "id": "Y29_vFp9q6-g"
   },
   "source": [
    "### Initial statistics of the dataset\n"
   ]
  },
  {
   "cell_type": "code",
   "execution_count": 4,
   "metadata": {
    "colab": {
     "base_uri": "https://localhost:8080/"
    },
    "id": "4OldSqzdqU8f",
    "outputId": "ebf97635-9e4d-4dac-dc37-ea0c705e9eee"
   },
   "outputs": [
    {
     "name": "stderr",
     "output_type": "stream",
     "text": [
      "25/07/10 15:12:43 WARN package: Truncated the string representation of a plan since it was too large. This behavior can be adjusted by setting 'spark.sql.debug.maxToStringFields'.\n"
     ]
    },
    {
     "name": "stdout",
     "output_type": "stream",
     "text": [
      "+-------+------------------+------------------+-----------------+------------------+------------------+------------------+-------------------+\n",
      "|summary|   funded_amnt_inv|          int_rate|      installment|         loan_amnt|       funded_amnt|      inq_last_12m|        default_ind|\n",
      "+-------+------------------+------------------+-----------------+------------------+------------------+------------------+-------------------+\n",
      "|  count|            855969|            855969|           855969|            855969|            855969|             13289|             855746|\n",
      "|   mean|14700.061225999756|13.192319605031136|436.2380718343754|14745.571334943204|14732.378304588134|1.8418240650161788|0.05426376518265934|\n",
      "| stddev| 8425.805478470194| 4.368365181701456|243.7268761679839| 8425.340005005297| 8419.471653319759| 2.974979879227413|0.22653756629105123|\n",
      "|    min|               0.0|              5.32|            15.69|               500|               500|                -4|                  0|\n",
      "|    max|           35000.0|             28.99|          1445.46|             35000|             35000|                32|                  1|\n",
      "+-------+------------------+------------------+-----------------+------------------+------------------+------------------+-------------------+\n",
      "\n"
     ]
    }
   ],
   "source": [
    "# Create a filter for numerical columns from the datast\n",
    "float_col = [item[0] for item in df.dtypes if item[1].startswith('double')]\n",
    "int_col = [item[0] for item in df.dtypes if item[1].startswith('int')]\n",
    "columns_filter = float_col + int_col\n",
    "\n",
    "# Remove 'id' columns since they don't contribute to predicitons\n",
    "columns_filter.remove('id')\n",
    "columns_filter.remove('member_id')\n",
    "\n",
    "# Apply a filter to calculate summary statistics for the numerical columns\n",
    "numerical_df = df.select(columns_filter)\n",
    "summary_stats = numerical_df.describe()\n",
    "summary_stats.show()"
   ]
  },
  {
   "cell_type": "markdown",
   "metadata": {
    "id": "-3xlit3TgsSK"
   },
   "source": [
    "From the statistic table, we can see some of the characteristics of this specific dataset:\n",
    "\n",
    "*   Large sample size: The dataset includes over 855,000 records, providing a strong foundation for modeling. The richness of the data suggests good coverage across various borrower profiles\n",
    "\n",
    "*   Numerical Columns Show Wide Ranges: loan_amnt, annual_inc, and related financial columns have wide value ranges, with some extremely high values (outliers).\n",
    "\n",
    "*   The standard deviations are large relative to the means in variables like annual_inc and revol_bal, suggesting high variability in borrower financial situations.\n",
    "\n",
    "*   Missing Numerical Columns: multiple numerical columns, such as `last_pymnt_amnt`did not display when filtered for numerical values,  suggests inconsistent values.\n",
    "\n",
    "*   Presence of missing data: Some columns have significantly fewer non-null values (e.g., annual_inc_joint, dti_joint, desc, etc). This indicates that missing data is a factor, particularly in optional or borrower-provided fields.\n",
    "\n",
    "*   Categorical Variables Are Diverse: features like grade, home_ownership, and term show a structured set of categories that likely vary across borrowers. Meanwhile, others like emp_title and title are free-text and likely contain a large number of unique values.\n",
    "\n",
    "The summary reflects a dataset that is large, diverse, and rich in financial and behavioral attributes, but it also includes missing values, outliers, and some redundancy.\n",
    "\n",
    "\n",
    "\n",
    "\n"
   ]
  },
  {
   "cell_type": "markdown",
   "metadata": {
    "id": "2GWYH6DSoAol"
   },
   "source": [
    "### Dimensionality Reduction\n",
    "\n"
   ]
  },
  {
   "cell_type": "markdown",
   "metadata": {},
   "source": [
    "\n",
    "Due to the complexity and redundancy of many features from the dataset, these columns will be removed:"
   ]
  },
  {
   "cell_type": "code",
   "execution_count": 5,
   "metadata": {
    "colab": {
     "base_uri": "https://localhost:8080/"
    },
    "id": "IKdHvAsBtGiX",
    "outputId": "5e066a6d-d5d5-485b-88b2-d4804548bc57"
   },
   "outputs": [
    {
     "name": "stdout",
     "output_type": "stream",
     "text": [
      "Column Name                    | Justification\n",
      "----------------------------------------------------------------------\n",
      "id                             | Unique identifier with no predictive value\n",
      "member_id                      | Same as id; only serves as a borrower reference\n",
      "url                            | Link to listing; irrelevant for modeling\n",
      "zip_code                       | Truncated location info; unecessary for the model\n",
      "title                          | Redundant with purpose; free-text, inconsistent\n",
      "desc                           | Free-text; 86% missing; adds noise\n",
      "annual_inc_joint               | 99.9% missing; joint applications are rare\n",
      "dti_joint                      | 99.9% missing; too sparse\n",
      "verification_status_joint      | 99.9% missing\n",
      "mths_since_last_record         | 85% missing\n",
      "mths_since_last_major_derog    | 75% missing; sparse and hard to interpret\n",
      "open_acc_6m → inq_last_12m (13 fields) | ~98% missing; recent credit activity fields are mostly empty\n",
      "emp_title                      | Free-text job title; inconsistent and high cardinality (~5.8% missing)\n",
      "policy_code                    | Almost constant (usually 1); not informative\n",
      "pymnt_plan                     | Almost always \"n\" (no active plans); low variance\n",
      "initial_list_status            | Typically dominated by one category; adds little signal\n",
      "funded_amnt                    | Highly correlated with loan_amnt; redundant\n",
      "funded_amnt_inv                | Investor-specific version; redundant\n",
      "out_prncp                      | Similar to out_prncp_inv; keep one\n",
      "total_pymnt_inv                | Similar to total_pymnt; choose one\n",
      "recoveries                     | Borrowers with non-null recoveries are deemed likely to default, collinear with the target\n",
      "collection_recovery_fee        | Same with recoveries, if post charge-off occurs then borrowers are likely to default\n",
      "collections_12_mths_ex_med     | Almost always 0; not informative\n",
      "acc_now_delinq                 | Rarely nonzero; low variance\n",
      "open_acc_6m                    | ~98% missing; recent credit activity field\n",
      "open_il_6m                     | ~98% missing; recent credit activity field\n",
      "open_il_12m                    | ~98% missing; recent credit activity field\n",
      "open_il_24m                    | ~98% missing; recent credit activity field\n",
      "mths_since_rcnt_il             | ~98% missing; hard to impute\n",
      "total_bal_il                   | ~98% missing; mostly unused\n",
      "il_util                        | ~98% missing; unreliable credit ratio\n",
      "open_rv_12m                    | ~98% missing; recent credit activity field\n",
      "open_rv_24m                    | ~98% missing; recent credit activity field\n",
      "max_bal_bc                     | ~98% missing; rarely populated\n",
      "all_util                       | ~98% missing; unreliable credit utilisation\n",
      "inq_fi                         | ~98% missing; few borrowers triggered this\n",
      "total_cu_tl                    | ~98% missing; limited financial use\n",
      "inq_last_12m                   | ~98% missing; redundant with inq_last_6mths\n",
      "mths_since_last_delinq         | 60% missing\n",
      "next_pymnt_d                   | many rows missing, may affect negatively to the model\n"
     ]
    }
   ],
   "source": [
    "columns_to_drop = [\n",
    "    (\"id\", \"Unique identifier with no predictive value\"),\n",
    "    (\"member_id\", \"Same as id; only serves as a borrower reference\"),\n",
    "    (\"url\", \"Link to listing; irrelevant for modeling\"),\n",
    "    (\"zip_code\", \"Truncated location info; unecessary for the model\"),\n",
    "    (\"title\", \"Redundant with purpose; free-text, inconsistent\"),\n",
    "    (\"desc\", \"Free-text; 86% missing; adds noise\"),\n",
    "    (\"annual_inc_joint\", \"99.9% missing; joint applications are rare\"),\n",
    "    (\"dti_joint\", \"99.9% missing; too sparse\"),\n",
    "    (\"verification_status_joint\", \"99.9% missing\"),\n",
    "    (\"mths_since_last_record\", \"85% missing\"),\n",
    "    (\"mths_since_last_major_derog\", \"75% missing; sparse and hard to interpret\"),\n",
    "    (\"open_acc_6m → inq_last_12m (13 fields)\", \"~98% missing; recent credit activity fields are mostly empty\"),\n",
    "    (\"emp_title\", \"Free-text job title; inconsistent and high cardinality (~5.8% missing)\"),\n",
    "    (\"policy_code\", \"Almost constant (usually 1); not informative\"),\n",
    "    (\"pymnt_plan\", \"Almost always \\\"n\\\" (no active plans); low variance\"),\n",
    "    (\"initial_list_status\", \"Typically dominated by one category; adds little signal\"),\n",
    "    (\"funded_amnt\", \"Highly correlated with loan_amnt; redundant\"),\n",
    "    (\"funded_amnt_inv\", \"Investor-specific version; redundant\"),\n",
    "    (\"out_prncp\", \"Similar to out_prncp_inv; keep one\"),\n",
    "    (\"total_pymnt_inv\", \"Similar to total_pymnt; choose one\"),\n",
    "    (\"recoveries\", \"Borrowers with non-null recoveries are deemed likely to default, collinear with the target\"),\n",
    "    (\"collection_recovery_fee\", \"Same with recoveries, if post charge-off occurs then borrowers are likely to default\"),\n",
    "    (\"collections_12_mths_ex_med\", \"Almost always 0; not informative\"),\n",
    "    (\"acc_now_delinq\", \"Rarely nonzero; low variance\"),\n",
    "    (\"open_acc_6m\", \"~98% missing; recent credit activity field\"),\n",
    "    (\"open_il_6m\", \"~98% missing; recent credit activity field\"),\n",
    "    (\"open_il_12m\", \"~98% missing; recent credit activity field\"),\n",
    "    (\"open_il_24m\", \"~98% missing; recent credit activity field\"),\n",
    "    (\"mths_since_rcnt_il\", \"~98% missing; hard to impute\"),\n",
    "    (\"total_bal_il\", \"~98% missing; mostly unused\"),\n",
    "    (\"il_util\", \"~98% missing; unreliable credit ratio\"),\n",
    "    (\"open_rv_12m\", \"~98% missing; recent credit activity field\"),\n",
    "    (\"open_rv_24m\", \"~98% missing; recent credit activity field\"),\n",
    "    (\"max_bal_bc\", \"~98% missing; rarely populated\"),\n",
    "    (\"all_util\", \"~98% missing; unreliable credit utilisation\"),\n",
    "    (\"inq_fi\", \"~98% missing; few borrowers triggered this\"),\n",
    "    (\"total_cu_tl\", \"~98% missing; limited financial use\"),\n",
    "    (\"inq_last_12m\", \"~98% missing; redundant with inq_last_6mths\"),\n",
    "    (\"mths_since_last_delinq\", \"60% missing\"),\n",
    "    (\"next_pymnt_d\", \"many rows missing, may affect negatively to the model\")\n",
    "]\n",
    "\n",
    "print(f\"{'Column Name':<30} | Justification\")\n",
    "print(\"-\" * 70)\n",
    "for c, reason in columns_to_drop:\n",
    "    print(f\"{c:<30} | {reason}\")\n",
    "# Extract only the column names\n",
    "drop_column_names = [colm[0] for colm in columns_to_drop]\n",
    "df = df.drop(*drop_column_names)"
   ]
  },
  {
   "cell_type": "markdown",
   "metadata": {
    "id": "HnzFwBCWsq66"
   },
   "source": [
    "For features with minor missing rows (less than 100 records or 1% of the dataset) such as `purpose`, `dti`, `inq_last_6mths`, and `default_ind`, we chose to drop the null rows to ensure data integrity while maintaining overall dataset size. These variables are either directly relevant to the modeling process or are critical outcome variables, making imputation less reliable and potentially biased.\n",
    "\n",
    "For fields with moderate null counts like revol_util or last_credit_pull_d, we opted to impute missing values using reasonable defaults (e.g., median for numerical features or 'Unknown' for dates). This approach preserves data volume while minimising distortion in distribution."
   ]
  },
  {
   "cell_type": "code",
   "execution_count": 6,
   "metadata": {
    "colab": {
     "base_uri": "https://localhost:8080/"
    },
    "id": "Y5k80l_XrTto",
    "outputId": "99b5f25f-e289-4f1a-c10d-e60199c1e886"
   },
   "outputs": [
    {
     "name": "stdout",
     "output_type": "stream",
     "text": [
      "Column                    Nulls    Comment                                            Action\n",
      "------------------------------------------------------------------------------------------------------------------------\n",
      "purpose                   1        Key categorical feature                            Drop the row (only 1)\n",
      "addr_state                1        Categorical location info                          Drop the row (only 1)\n",
      "dti                       1        Important financial ratio                          Drop the row (only 1)\n",
      "delinq_2yrs               1        Low frequency delinquency indicator                Drop the row (only 1)\n",
      "earliest_cr_line          1        Useful for tenure features                         Drop the row (only 1)\n",
      "inq_last_6mths            1        Recent inquiries; valuable                         Drop the row (only 1)\n",
      "open_acc                  72       Active accounts; numeric, small null count         Drop rows\n",
      "pub_rec                   57       Low variation + low null count                     Drop rows\n",
      "revol_bal                 47       Revolving balance; very small number               Drop rows\n",
      "revol_util                475      Credit utilisation; important, nulls are manageable Impute (e.g., median)\n",
      "total_acc                 17       Credit history size                                Drop rows\n",
      "out_prncp_inv             21       Investment principal; minor                        Drop rows\n",
      "total_pymnt               12       Payment-related; small number                      Drop rows\n",
      "total_rec_prncp           9        Received principal                                 Drop rows\n",
      "total_rec_int             3        Received interest                                  Drop rows\n",
      "total_rec_late_fee        3        Late fee received                                  Drop rows\n",
      "collection_recovery_fee   5        Related to above                                   Drop rows\n",
      "last_pymnt_d              8869     Often missing for recent or closed loans           Impute 'Unknown'\n",
      "last_pymnt_amnt           3        Payment amount                                     Drop rows\n",
      "last_credit_pull_d        102      Credit check recency                               Impute mode\n",
      "application_type          57       Joint vs Individual; very few missing              Drop rows\n",
      "tot_coll_amt              67198    May be relevant                                    impute \n",
      "tot_cur_bal               67224    May be relevant                                    impute\n",
      "total_rev_hi_lim          67311    High credit limit                                  impute\n",
      "default_ind               223      Target variable — cannot be missing                Drop these rows\n"
     ]
    }
   ],
   "source": [
    "null_summary = [\n",
    "    [\"purpose\", 1, \"Key categorical feature\", \"Drop the row (only 1)\"],\n",
    "    [\"addr_state\", 1, \"Categorical location info\", \"Drop the row (only 1)\"],\n",
    "    [\"dti\", 1, \"Important financial ratio\", \"Drop the row (only 1)\"],\n",
    "    [\"delinq_2yrs\", 1, \"Low frequency delinquency indicator\", \"Drop the row (only 1)\"],\n",
    "    [\"earliest_cr_line\", 1, \"Useful for tenure features\", \"Drop the row (only 1)\"],\n",
    "    [\"inq_last_6mths\", 1, \"Recent inquiries; valuable\", \"Drop the row (only 1)\"],\n",
    "    [\"open_acc\", 72, \"Active accounts; numeric, small null count\", \"Drop rows\"],\n",
    "    [\"pub_rec\", 57, \"Low variation + low null count\", \"Drop rows\"],\n",
    "    [\"revol_bal\", 47, \"Revolving balance; very small number\", \"Drop rows\"],\n",
    "    [\"revol_util\", 475, \"Credit utilisation; important, nulls are manageable\", \"Impute (e.g., median)\"],\n",
    "    [\"total_acc\", 17, \"Credit history size\", \"Drop rows\"],\n",
    "    [\"out_prncp_inv\", 21, \"Investment principal; minor\", \"Drop rows\"],\n",
    "    [\"total_pymnt\", 12, \"Payment-related; small number\", \"Drop rows\"],\n",
    "    [\"total_rec_prncp\", 9, \"Received principal\", \"Drop rows\"],\n",
    "    [\"total_rec_int\", 3, \"Received interest\", \"Drop rows\"],\n",
    "    [\"total_rec_late_fee\", 3, \"Late fee received\", \"Drop rows\"],\n",
    "    [\"collection_recovery_fee\", 5, \"Related to above\", \"Drop rows\"],\n",
    "    [\"last_pymnt_d\", 8869, \"Often missing for recent or closed loans\", \"Impute 'Unknown'\"],\n",
    "    [\"last_pymnt_amnt\", 3, \"Payment amount\", \"Drop rows\"],\n",
    "    [\"last_credit_pull_d\", 102, \"Credit check recency\", \"Impute mode\"],\n",
    "    [\"application_type\", 57, \"Joint vs Individual; very few missing\", \"Drop rows\"],\n",
    "    [\"tot_coll_amt\", 67198, \"May be relevant\", \"impute \"],\n",
    "    [\"tot_cur_bal\", 67224, \"May be relevant\", \"impute\"],\n",
    "    [\"total_rev_hi_lim\", 67311, \"High credit limit\", \"impute\"],\n",
    "    [\"default_ind\", 223, \"Target variable — cannot be missing\", \"Drop these rows\"],\n",
    "]\n",
    "print(\"{:<25} {:<8} {:<50} {}\".format(\"Column\", \"Nulls\", \"Comment\", \"Action\"))\n",
    "print(\"-\" * 120)\n",
    "for row in null_summary:\n",
    "    print(\"{:<25} {:<8} {:<50} {}\".format(row[0], row[1], row[2], row[3]))"
   ]
  },
  {
   "cell_type": "code",
   "execution_count": 7,
   "metadata": {
    "colab": {
     "base_uri": "https://localhost:8080/"
    },
    "id": "pTOdW5ARuQ48",
    "outputId": "01b1ab5e-2219-41b5-a091-14d9152e1c5a"
   },
   "outputs": [],
   "source": [
    "# Drop the missing values in columns that have minor absence\n",
    "df = df.na.drop(subset=[\n",
    "    \"purpose\", \"addr_state\", \"dti\", \"delinq_2yrs\", \"earliest_cr_line\", \"inq_last_6mths\",\n",
    "    \"open_acc\", \"pub_rec\", \"revol_bal\", \"total_acc\", \"out_prncp_inv\", \"total_pymnt\",\n",
    "    \"total_rec_prncp\", \"total_rec_int\", \"total_rec_late_fee\", \"last_pymnt_amnt\", \"application_type\",\n",
    "    \"default_ind\"\n",
    "])"
   ]
  },
  {
   "cell_type": "markdown",
   "metadata": {
    "id": "tqLiiX6fK_0g"
   },
   "source": [
    "### Convert and Encode Date Features"
   ]
  },
  {
   "cell_type": "markdown",
   "metadata": {},
   "source": [
    "There are date features that are casted as string type in the dataset. Since we are not certain whether these features have predictive power, we will retain the two features `last_pymnt_d` and `earliest_cr_line` and encode them as string using `unix_timestamp`. We decided to drop `issue_d` and `last_credit_pull_d` as we infer they are metadata of the loan and not directly relevant to the likelihood of defaulting. \n",
    "\n",
    "We infer that borrowers with low `last_pymnt_d` and `earliest_cr_line` further in the past are likely to make their loan payments on time. This inference, however, requires further business analysis to validate."
   ]
  },
  {
   "cell_type": "code",
   "execution_count": 8,
   "metadata": {
    "id": "jS8Ot6frdVfO"
   },
   "outputs": [],
   "source": [
    "df = df.drop('issue_d', 'last_credit_pull_d')\n",
    "\n",
    "\n",
    "# Convert string casted date to DateType\n",
    "df = df.withColumn(\n",
    "    \"earliest_cr_line\",\n",
    "    unix_timestamp(col(\"earliest_cr_line\"), \"dd-MM-yyyy\").cast('timestamp')\n",
    ")\n",
    "\n",
    "df = df.withColumn(\n",
    "    \"last_pymnt_d\",\n",
    "    unix_timestamp(col(\"last_pymnt_d\"), \"dd-MM-yyyy\").cast('timestamp')\n",
    ")\n",
    "\n",
    "df = df.withColumn(\n",
    "    \"earliest_cr_line\", col(\"earliest_cr_line\").cast(DateType())\n",
    ")\n",
    "df = df.withColumn(\n",
    "    \"last_pymnt_d\", col(\"last_pymnt_d\").cast(DateType())\n",
    "\n",
    ")\n",
    "df = df.withColumn(\n",
    "    \"earliest_cr_line_int\",\n",
    "    datediff(col(\"earliest_cr_line\"), lit(\"1970-01-01\"))\n",
    ")\n",
    "df = df.withColumn(\n",
    "    \"last_pymnt_d_int\",\n",
    "    datediff(col(\"last_pymnt_d\"), lit(\"1970-01-01\"))\n",
    ")\n",
    "\n",
    "df = df.drop('earliest_cr_line', 'last_pymnt_d')"
   ]
  },
  {
   "cell_type": "markdown",
   "metadata": {
    "id": "O2pSS7vjZg_3"
   },
   "source": [
    "### Encoding Categorical Variables"
   ]
  },
  {
   "cell_type": "markdown",
   "metadata": {
    "id": "e7kbgDB5NMc5"
   },
   "source": [
    "Next, we encode the categorical features using StringIndexer to make the dataset appropriate for networks and other models that cannot parse text data.\n",
    "\n",
    "There were several numeric features recorded as string/text features, we performed type casting for these features to ensure they are of correct types."
   ]
  },
  {
   "cell_type": "code",
   "execution_count": 9,
   "metadata": {
    "id": "mGco_PZvZesb"
   },
   "outputs": [
    {
     "name": "stderr",
     "output_type": "stream",
     "text": [
      "                                                                                "
     ]
    }
   ],
   "source": [
    "# Declare categorical features to encode\n",
    "categorical_to_encode = [\n",
    "    \"term\", \"grade\", \"sub_grade\", \"emp_length\",\n",
    "    \"home_ownership\", \"verification_status\", \"purpose\",\n",
    "    \"addr_state\", \"application_type\"\n",
    "]\n",
    "\n",
    "string_numeric_cols = [\n",
    "    \"annual_inc\", \"dti\", \"delinq_2yrs\", \"inq_last_6mths\", \"open_acc\", \"pub_rec\",\n",
    "    \"total_acc\", \"out_prncp_inv\", \"total_pymnt\", \"total_rec_prncp\", \"total_rec_int\",\n",
    "    \"total_rec_late_fee\", \"last_pymnt_amnt\", \"revol_bal\", \"earliest_cr_line_int\",\"last_pymnt_d_int\"\n",
    "]\n",
    "\n",
    "numeric_cols = [\n",
    "    \"loan_amnt\", \"int_rate\", \"installment\", \"revol_util\", \"tot_coll_amt\",\n",
    "    \"tot_cur_bal\", \"total_rev_hi_lim\", \"default_ind\"\n",
    "]\n",
    "\n",
    "\n",
    " # Fit the indexer on the main dataset and transform the categories in the split\n",
    "for col_name in categorical_to_encode:\n",
    "    indexer = StringIndexer(inputCol=col_name, outputCol=f\"{col_name}_index\")\n",
    "    df = indexer.fit(df).transform(df)\n",
    "\n",
    "# Cast string numeric to DoubleType\n",
    "for col_name in string_numeric_cols:\n",
    "    df = df.withColumn(col_name, col(col_name).cast(DoubleType()))\n",
    "\n",
    "\n",
    "# Include string numeric columns\n",
    "numeric_cols += string_numeric_cols\n",
    "\n",
    "# Include encoded categorical columns\n",
    "encoded_categorical_cols = [f\"{col}_index\" for col in categorical_to_encode]\n",
    "numeric_cols += encoded_categorical_cols\n",
    "\n",
    "\n",
    "# Drop only encoded columns\n",
    "df = df.drop(*categorical_to_encode)"
   ]
  },
  {
   "cell_type": "code",
   "execution_count": 10,
   "metadata": {
    "colab": {
     "base_uri": "https://localhost:8080/"
    },
    "id": "NmSKDV7XGQtY",
    "outputId": "15798382-c32d-46de-8dd8-ac096d883233"
   },
   "outputs": [
    {
     "name": "stdout",
     "output_type": "stream",
     "text": [
      "Training set features count after all encoding: 33\n"
     ]
    }
   ],
   "source": [
    "# Splitting data before further processing to avoid data leakdage during imputation\n",
    "train_df, test_df = df.randomSplit([0.8, 0.2], seed=42)\n",
    "print(\"Training set features count after all encoding:\", len(train_df.columns))"
   ]
  },
  {
   "cell_type": "markdown",
   "metadata": {
    "id": "TkIL0bjjBu2V"
   },
   "source": [
    "### Filling Missing Rows"
   ]
  },
  {
   "cell_type": "markdown",
   "metadata": {},
   "source": [
    "There are columns where removal of the entire columns would raise potential issues for analysis. These columns were imputed with the median if they are numerical and filled with 'Unknown' if the columns are categorical."
   ]
  },
  {
   "cell_type": "code",
   "execution_count": 11,
   "metadata": {
    "colab": {
     "base_uri": "https://localhost:8080/"
    },
    "id": "GRdRb41SvGEe",
    "outputId": "e27929ad-a527-4f54-a27c-c6481850252b"
   },
   "outputs": [
    {
     "name": "stderr",
     "output_type": "stream",
     "text": [
      "[Stage 262:================================>                     (19 + 13) / 32]"
     ]
    },
    {
     "name": "stdout",
     "output_type": "stream",
     "text": [
      "{'revol_util': 55.9, 'tot_coll_amt': 0.0, 'tot_cur_bal': 80757.0, 'total_rev_hi_lim': 23800.0, 'last_pymnt_d_int': 16801.0}\n"
     ]
    },
    {
     "name": "stderr",
     "output_type": "stream",
     "text": [
      "                                                                                "
     ]
    }
   ],
   "source": [
    "# List of numeric columns with missing values after ecoding. These will be imputed with train set median\n",
    "numeric_median_cols = [\"revol_util\", \"tot_coll_amt\", \"tot_cur_bal\", \"total_rev_hi_lim\", \"last_pymnt_d_int\"]\n",
    "\n",
    "\n",
    "# Convert to double\n",
    "for col_name in numeric_median_cols:\n",
    "    train_df = train_df.withColumn(col_name, col(col_name).cast(DoubleType()))\n",
    "    test_df = test_df.withColumn(col_name, col(col_name).cast(DoubleType()))\n",
    "\n",
    "# Dictionary to store medians\n",
    "median_values = {}\n",
    "\n",
    "\n",
    "# Compute approximate median for each column using the train set\n",
    "for col_name in numeric_median_cols:\n",
    "    median = train_df.approxQuantile(col_name, [0.5], 0.001)[0]\n",
    "    median_values[col_name] = median\n",
    "\n",
    "# Print to verify\n",
    "print(median_values)\n",
    "\n",
    "\n",
    "# Impute numerical fields\n",
    "train_df = train_df.fillna({\n",
    "    \"revol_util\": median_values[\"revol_util\"], # fill with median\n",
    "    \"tot_coll_amt\": median_values[\"tot_coll_amt\"],\n",
    "    \"tot_cur_bal\": median_values[\"tot_cur_bal\"],\n",
    "    \"total_rev_hi_lim\": median_values[\"total_rev_hi_lim\"],\n",
    "    \"last_pymnt_d_int\": median_values[\"last_pymnt_d_int\"]\n",
    "})\n",
    "\n",
    "# Fill the test set with the train set's median to avoid leakage\n",
    "test_df = test_df.fillna({\n",
    "    \"revol_util\": median_values[\"revol_util\"],\n",
    "    \"tot_coll_amt\": median_values[\"tot_coll_amt\"],\n",
    "    \"tot_cur_bal\": median_values[\"tot_cur_bal\"],\n",
    "    \"total_rev_hi_lim\": median_values[\"total_rev_hi_lim\"],\n",
    "    \"last_pymnt_d_int\": median_values[\"last_pymnt_d_int\"]\n",
    "})"
   ]
  },
  {
   "cell_type": "markdown",
   "metadata": {
    "id": "IaXbhmfDgs3C"
   },
   "source": [
    "## Correlation Analysis"
   ]
  },
  {
   "cell_type": "markdown",
   "metadata": {
    "id": "quIX2VnsNhhv"
   },
   "source": [
    "To understand which variables have the strongest linear relationship with the target variable (`default_ind`), we compute Pearson correlation coefficients between `default_ind` and all relevant numerical features. Since correlation in PySpark only works with numerical types (e.g., DoubleType, IntegerType), we must first ensure all relevant columns are appropriately prepared:\n",
    "\n",
    "Categorical variables such as grade, purpose, and emp_length are encoded numerically using StringIndexer, which assigns a numeric index to each category.\n",
    "\n",
    "String-formatted numeric variables (e.g., annual_inc, dti) are explicitly cast to DoubleType to make them usable in correlation calculations.\n",
    "\n",
    "All numeric and encoded features are then collected into a list and individually correlated with default_ind."
   ]
  },
  {
   "cell_type": "code",
   "execution_count": 12,
   "metadata": {
    "colab": {
     "base_uri": "https://localhost:8080/"
    },
    "id": "EYtmkuHUIvwo",
    "outputId": "504e6d6f-d335-4e8b-9762-00cb0a488529"
   },
   "outputs": [
    {
     "name": "stderr",
     "output_type": "stream",
     "text": [
      "[Stage 357:=====================================>                (22 + 10) / 32]"
     ]
    },
    {
     "name": "stdout",
     "output_type": "stream",
     "text": [
      "Column\t\t\tCorrelation with default_ind\n",
      "--------------------------------------------------\n",
      "last_pymnt_d_int          -0.3243\n",
      "out_prncp_inv             -0.2259\n",
      "int_rate                  0.1546\n",
      "total_rec_late_fee        0.1386\n",
      "total_rec_prncp           -0.0905\n",
      "grade_index               0.0884\n",
      "last_pymnt_amnt           -0.0873\n",
      "inq_last_6mths            0.0735\n",
      "sub_grade_index           0.0696\n",
      "total_rec_int             0.0453\n"
     ]
    },
    {
     "name": "stderr",
     "output_type": "stream",
     "text": [
      "                                                                                "
     ]
    }
   ],
   "source": [
    "correlations = {}\n",
    "\n",
    "\n",
    "# Compute features correlation for only the train set\n",
    "for col_name in numeric_cols:\n",
    "    if col_name != \"default_ind\":\n",
    "        try:\n",
    "            corr = train_df.stat.corr(col_name, \"default_ind\")\n",
    "            correlations[col_name] = corr\n",
    "        except:\n",
    "            correlations[col_name] = None  # Skip or log any errors\n",
    "sorted_corr = sorted(correlations.items(), key=lambda x: abs(x[1]) if x[1] is not None else -1, reverse=True)\n",
    "\n",
    "\n",
    "print(\"Column\\t\\t\\tCorrelation with default_ind\")\n",
    "print(\"-\" * 50)\n",
    "for col_name, corr in sorted_corr[:10]:\n",
    "    if corr is not None:\n",
    "        print(f\"{col_name:<25} {corr:.4f}\")"
   ]
  },
  {
   "cell_type": "markdown",
   "metadata": {
    "id": "sAPmcZpbN7nZ"
   },
   "source": [
    "### Most Relevant Attributes\n",
    "\n",
    "| **Feature**               | **Corr.** | **Justification**                                                                 |\n",
    "|---------------------------|-----------|------------------------------------------------------------------------------------|\n",
    "| `last_pymnt_d_int`.       |-0.3245    | Closer paying day might link to the defauld_id                                        |\n",
    "| `out_prncp_inv`           | -0.2260   | Negative correlation; lower remaining principal often means loan is closed.       |\n",
    "| `int_rate`                | 0.1551    | Higher interest rates typically reflect higher credit risk.                       |\n",
    "| `total_rec_late_fee`      | 0.1410    | Late fees accumulate from missed payments — a key signal of borrower risk.        |\n",
    "| `total_rec_prncp`         | -0.0903   | Less principal recovered may reflect early termination due to default.            |\n"
   ]
  },
  {
   "cell_type": "code",
   "execution_count": 13,
   "metadata": {
    "colab": {
     "base_uri": "https://localhost:8080/"
    },
    "id": "6Rvra67xwido",
    "outputId": "e6e7b008-ef5c-4f20-b601-c7f4557a502e",
    "scrolled": true
   },
   "outputs": [
    {
     "name": "stderr",
     "output_type": "stream",
     "text": [
      "[Stage 360:==========================================>            (25 + 7) / 32]"
     ]
    },
    {
     "name": "stdout",
     "output_type": "stream",
     "text": [
      "+---------+--------+-----------+----------+---+-----------+--------------+--------+-------+---------+----------+---------+-------------+-----------+---------------+-------------+------------------+---------------+------------+-----------+----------------+-----------+--------------------+----------------+----------+-----------+---------------+----------------+--------------------+-------------------------+-------------+----------------+----------------------+\n",
      "|loan_amnt|int_rate|installment|annual_inc|dti|delinq_2yrs|inq_last_6mths|open_acc|pub_rec|revol_bal|revol_util|total_acc|out_prncp_inv|total_pymnt|total_rec_prncp|total_rec_int|total_rec_late_fee|last_pymnt_amnt|tot_coll_amt|tot_cur_bal|total_rev_hi_lim|default_ind|earliest_cr_line_int|last_pymnt_d_int|term_index|grade_index|sub_grade_index|emp_length_index|home_ownership_index|verification_status_index|purpose_index|addr_state_index|application_type_index|\n",
      "+---------+--------+-----------+----------+---+-----------+--------------+--------+-------+---------+----------+---------+-------------+-----------+---------------+-------------+------------------+---------------+------------+-----------+----------------+-----------+--------------------+----------------+----------+-----------+---------------+----------------+--------------------+-------------------------+-------------+----------------+----------------------+\n",
      "|        0|       0|          0|         0|  0|          0|             0|       0|      0|        0|         0|        0|            0|          0|              0|            0|                 0|              0|           0|          0|               0|          0|                   0|               0|         0|          0|              0|               0|                   0|                        0|            0|               0|                     0|\n",
      "+---------+--------+-----------+----------+---+-----------+--------------+--------+-------+---------+----------+---------+-------------+-----------+---------------+-------------+------------------+---------------+------------+-----------+----------------+-----------+--------------------+----------------+----------+-----------+---------------+----------------+--------------------+-------------------------+-------------+----------------+----------------------+\n",
      "\n"
     ]
    },
    {
     "name": "stderr",
     "output_type": "stream",
     "text": [
      "                                                                                "
     ]
    }
   ],
   "source": [
    "train_df.select([\n",
    "    sum(when(col(c).isNull(), 1).otherwise(0)).alias(c)\n",
    "    for c in train_df.columns\n",
    "]).show()"
   ]
  },
  {
   "cell_type": "markdown",
   "metadata": {
    "id": "NH2Md3ILg608"
   },
   "source": [
    "## Visualisation"
   ]
  },
  {
   "cell_type": "markdown",
   "metadata": {},
   "source": [
    "### Composition of `default_ind`"
   ]
  },
  {
   "cell_type": "markdown",
   "metadata": {},
   "source": [
    "Here, we analyse the class balance of the target column `default_ind`."
   ]
  },
  {
   "cell_type": "code",
   "execution_count": 15,
   "metadata": {
    "colab": {
     "base_uri": "https://localhost:8080/"
    },
    "id": "zGSstMkogHsD",
    "outputId": "9caa661a-eaab-4190-e685-e2af7b474970"
   },
   "outputs": [
    {
     "name": "stderr",
     "output_type": "stream",
     "text": [
      "[Stage 363:=======================================>               (23 + 9) / 32]"
     ]
    },
    {
     "name": "stdout",
     "output_type": "stream",
     "text": [
      "+-----------+------+\n",
      "|default_ind| count|\n",
      "+-----------+------+\n",
      "|          0|647004|\n",
      "|          1| 37149|\n",
      "+-----------+------+\n",
      "\n"
     ]
    },
    {
     "name": "stderr",
     "output_type": "stream",
     "text": [
      "                                                                                "
     ]
    }
   ],
   "source": [
    "train_df.groupBy(\"default_ind\").count().orderBy(\"count\", ascending=False).show()"
   ]
  },
  {
   "cell_type": "markdown",
   "metadata": {
    "id": "dzDNCNyLiA3M"
   },
   "source": [
    "Observation:\n",
    "- The dataset is highly imbalanced with more weights allocated to the non-default borrowers. This is reasonable since the business will have low default count if credit screening is effective.\n",
    "- 647,004 records are non-defaults (`0`), 37,149 are defaults (`1`), no additional null values were detected.\n",
    "- The target class only represents around ~5.5% of total data, this imbalance will be corrected with undersampling of the non-default class pior to model fitting."
   ]
  },
  {
   "cell_type": "markdown",
   "metadata": {
    "id": "EdJSQaVwjzF3"
   },
   "source": [
    "### Distributional Visualisation of Features"
   ]
  },
  {
   "cell_type": "code",
   "execution_count": 16,
   "metadata": {
    "colab": {
     "base_uri": "https://localhost:8080/",
     "height": 807
    },
    "id": "Is072dpyHxDR",
    "outputId": "b9c5a809-19a4-4fde-a16f-5cc2b2279065"
   },
   "outputs": [
    {
     "name": "stderr",
     "output_type": "stream",
     "text": [
      "                                                                                "
     ]
    },
    {
     "data": {
      "image/png": "[encoded data removed]",
      "text/plain": [
       "<Figure size 1000x800 with 2 Axes>"
      ]
     },
     "metadata": {},
     "output_type": "display_data"
    }
   ],
   "source": [
    "# Define the top 7 relevant features\n",
    "top_features = [col_name for col_name, corr in sorted_corr[:7]]\n",
    "\n",
    "\n",
    "# Sample and convert only selected columns\n",
    "df_sample = train_df.select(top_features).sample(False, 0.1, seed=42).toPandas()\n",
    "\n",
    "\n",
    "# Compute pairwise correlation for selected features\n",
    "corr = df_sample.corr()\n",
    "\n",
    "\n",
    "# Plot heatmap\n",
    "plt.figure(figsize=(10, 8))\n",
    "sns.heatmap(corr, annot=True, cmap='coolwarm', fmt=\".2f\")\n",
    "plt.title('Correlation Heatmap: Top 7 Features')\n",
    "plt.tight_layout()\n",
    "plt.show()"
   ]
  },
  {
   "cell_type": "markdown",
   "metadata": {
    "id": "iJNRmCHxiDhq"
   },
   "source": [
    "Now we visualise the dataset to axamine the range as well as the distribution of features to decide wheter scaling or standardising is necessary."
   ]
  },
  {
   "cell_type": "code",
   "execution_count": 17,
   "metadata": {
    "colab": {
     "base_uri": "https://localhost:8080/",
     "height": 436
    },
    "id": "l1ZXmim8j4pE",
    "outputId": "1bdaba52-fa98-4fed-c8c0-bf0e79ee52d1"
   },
   "outputs": [
    {
     "data": {
      "image/png": "[encoded data removed]",
      "text/plain": [
       "<Figure size 1800x600 with 10 Axes>"
      ]
     },
     "metadata": {},
     "output_type": "display_data"
    }
   ],
   "source": [
    "# Plot histograms\n",
    "n_cols = 5\n",
    "n_rows = int(len(top_features) / n_cols) + 1\n",
    "fig, axes = plt.subplots(n_rows, n_cols, figsize=(18, n_rows * 3))\n",
    "axes = axes.flatten()\n",
    "for i, col in enumerate(top_features):\n",
    "    axes[i].hist(df_sample[col].dropna(), bins=30, edgecolor='black')\n",
    "    axes[i].set_title(col)\n",
    "    axes[i].set_ylabel(\"Freq\")\n",
    "\n",
    "# Hide unused subplots\n",
    "for j in range(i + 1, len(axes)):\n",
    "    axes[j].axis('off')\n",
    "plt.tight_layout()\n",
    "plt.show()"
   ]
  },
  {
   "cell_type": "markdown",
   "metadata": {
    "id": "gq8MQxB8lFrz"
   },
   "source": [
    "### Exploratory Data Analysis of Feature Distributions"
   ]
  },
  {
   "cell_type": "markdown",
   "metadata": {},
   "source": [
    "The distribution of many numerical features seems to be Inverse Gaussian. If probabilistic modelling is required, this distribution is a strong candidate for any Bayesian model.\n",
    "\n",
    "#### Numerical Features\n",
    "\n",
    "Most numerical features such as `loan_amnt`, `annual_inc`, `tot_cur_bal`, `total_rev_hi_lim`, and `tot_coll_amt` show strong right-skewed distributions. These variables contain a large number of low values with a long tail of high values, indicating the presence of multiple outliers.\n",
    "\n",
    "Some other features like `dti`, `installment`, and `int_rate` exhibit distributions that are closer to normal or mildly skewed.\n",
    "\n",
    "- `revol_util` appears fairly uniformly distributed between 0 and 100.\n",
    "- `default_ind` is highly imbalanced, with very few default cases (class 1).\n",
    "- Features like `delinq_2yrs`, `inq_last_6mths`, and `pub_rec` are count variables, skewed towards zero.\n",
    "\n",
    "**Conclusion**: While these features are skewed, no transformation is necessary for tree-based models (e.g., DecisionTree, RandomForest). However, One Hot Encoding will be considered for Naive Bayes\n",
    "\n",
    "---\n",
    "\n",
    "#### Categorical/Indexed Features\n",
    "\n",
    "Features such as `term_index`, `grade_index`, `sub_grade_index`, `emp_length_index`, `home_ownership_index`, `verification_status_index`, `purpose_index`, `addr_state_index`, and `application_type_index` are all encoded categorical variables.\n",
    "\n",
    "Observations:\n",
    "- Many of these features have **imbalanced class distributions** (e.g., `term_index`, `application_type_index`), which may reduce their predictive power unless stratified.\n",
    "- `sub_grade_index` and `addr_state_index` show a relatively broader spread across categories.\n",
    "- `grade_index`, `emp_length_index`, and `purpose_index` show decreasing frequencies with higher category values, which might reflect socio-economic hierarchies.\n",
    "\n",
    "**Conclusion**: These features can be used directly in tree-based models, or other flexible models without scaling or transformation. Their encoding is sufficient for model input, and advanced models like Naive Bayes will benefit from one-hot encoding or target encoding and standardisation.\n",
    "\n",
    "\n",
    "---\n"
   ]
  },
  {
   "cell_type": "markdown",
   "metadata": {
    "id": "t1H8s1D-PCh8"
   },
   "source": [
    "## Training Data Preparation"
   ]
  },
  {
   "cell_type": "markdown",
   "metadata": {},
   "source": [
    "### Assemble the Features Vector"
   ]
  },
  {
   "cell_type": "code",
   "execution_count": 18,
   "metadata": {
    "colab": {
     "base_uri": "https://localhost:8080/"
    },
    "id": "ZJWSAuaJnKN1",
    "outputId": "49ab5c6d-54a8-404c-8e22-7be9244be1ff"
   },
   "outputs": [],
   "source": [
    "features_col = [col for col in train_df.columns if col != \"default_ind\"]\n",
    "\n",
    "# Assemble features separately on train and test, categorical featuers were indexed in previous parts\n",
    "assembler = VectorAssembler(inputCols=features_col, outputCol=\"features\", handleInvalid = \"skip\")\n",
    "train_df = assembler.transform(train_df)\n",
    "test_df = assembler.transform(test_df)"
   ]
  },
  {
   "cell_type": "markdown",
   "metadata": {},
   "source": [
    "### Compute Class Weights and Standardise"
   ]
  },
  {
   "cell_type": "markdown",
   "metadata": {
    "id": "JzF_FU-M5eol"
   },
   "source": [
    "In this phase, we employed the class weight approach instead of using a subsample (with 20% of majority class) of the original dataset `train_df` for training.\n",
    "\n",
    "From initial testing, the subsample approach enforces the wrong learning pattern, as the distribution of the target is no longer the same after taking a subsample. This shift of distribution assisted the tree-based models since they are not sensitive to scales, but influences the networks to learn the wrong pattern.\n",
    "\n",
    "Therefore, we proceeded with weighting the classes to allow the networks to update their biases at every epoch without shifting the data's distribution.\n"
   ]
  },
  {
   "cell_type": "code",
   "execution_count": 19,
   "metadata": {
    "colab": {
     "base_uri": "https://localhost:8080/"
    },
    "id": "LY15P4xvFnvj",
    "outputId": "9cd9ed71-2025-472e-a9a2-d855fba2e680"
   },
   "outputs": [
    {
     "name": "stderr",
     "output_type": "stream",
     "text": [
      "                                                                                "
     ]
    },
    {
     "name": "stdout",
     "output_type": "stream",
     "text": [
      "Computed class weights: {0: np.float64(0.5287084778455775), 1: np.float64(9.208229023661472)}\n"
     ]
    }
   ],
   "source": [
    "nn_train_df = train_df.select('*')\n",
    "nn_test_df = test_df.select('*')\n",
    "\n",
    "\n",
    "# Ues class weights to attribute some bias towards the under-represented class\n",
    "original_train_labels = np.array(nn_train_df.select(\"default_ind\").rdd.map(lambda row: row[0]).collect())\n",
    "class_weights = compute_class_weight('balanced',\n",
    "                                     classes=np.unique(original_train_labels),\n",
    "                                     y=original_train_labels)\n",
    "\n",
    "\n",
    "class_weight_dict = {0: class_weights[0], 1: class_weights[1]}\n",
    "print(f\"Computed class weights: {class_weight_dict}\")"
   ]
  },
  {
   "cell_type": "markdown",
   "metadata": {
    "id": "doou29WVcz6o"
   },
   "source": [
    "Since neural networks are more sensitive to scales, we standardised the assembled features vector in the next step. This procedure ensures training stability and reduce numerical errors.  "
   ]
  },
  {
   "cell_type": "code",
   "execution_count": 20,
   "metadata": {
    "id": "kpybcI4eAp-E"
   },
   "outputs": [
    {
     "name": "stderr",
     "output_type": "stream",
     "text": [
      "                                                                                "
     ]
    }
   ],
   "source": [
    "# Standardise the data due to scale sensitivity of neural networks\n",
    "scaler = StandardScaler(inputCol=\"features\",\n",
    "                        outputCol=\"scaled_features\",\n",
    "                        withStd=True,\n",
    "                        withMean=True)\n",
    "\n",
    "\n",
    "model_scaler = scaler.fit(nn_train_df)\n",
    "scaled_train_df = model_scaler.transform(nn_train_df)\n",
    "scaled_test_df = model_scaler.transform(nn_test_df)"
   ]
  },
  {
   "cell_type": "markdown",
   "metadata": {},
   "source": [
    "## Exporting Data"
   ]
  },
  {
   "cell_type": "markdown",
   "metadata": {},
   "source": [
    "Finally, the processed data is exported as `.parquet` datasets to use in training. Initally, exporting the assembled `features` vector was not supported by CSV, which led to the `.parquet` change. The weights dictionary was also exported."
   ]
  },
  {
   "cell_type": "code",
   "execution_count": 21,
   "metadata": {},
   "outputs": [
    {
     "name": "stderr",
     "output_type": "stream",
     "text": [
      "                                                                                "
     ]
    }
   ],
   "source": [
    "output_path = f\"{config['processed_path']}processed_train_test_data\"\n",
    "\n",
    "\n",
    "# UDF to convert vector to array\n",
    "vector_to_array = udf(lambda v: v.toArray().tolist(), ArrayType(DoubleType()))\n",
    "\n",
    "# Convert features to arrays before saving (distributed operation)\n",
    "train_df_array = scaled_train_df.withColumn(\"features\", vector_to_array(\"features\"))\n",
    "test_df_array = scaled_test_df.withColumn(\"features\", vector_to_array(\"features\"))\n",
    "\n",
    "# Save to parquet (distributed write)\n",
    "train_df_array.repartition(1).write.parquet(f\"{output_path}/train\", mode=\"overwrite\")\n",
    "test_df_array.repartition(1).write.parquet(f\"{output_path}/test\", mode=\"overwrite\")\n",
    "\n",
    "\n",
    "with open(f'{output_path}class_weight_dict.csv', 'w') as csv_file:  \n",
    "    writer = csv.writer(csv_file)\n",
    "    for key, value in class_weight_dict.items():\n",
    "       writer.writerow([key, value])"
   ]
  }
 ],
 "metadata": {
  "colab": {
   "provenance": []
  },
  "kernelspec": {
   "display_name": "Python 3 (ipykernel)",
   "language": "python",
   "name": "python3"
  },
  "language_info": {
   "codemirror_mode": {
    "name": "ipython",
    "version": 3
   },
   "file_extension": ".py",
   "mimetype": "text/x-python",
   "name": "python",
   "nbconvert_exporter": "python",
   "pygments_lexer": "ipython3",
   "version": "3.10.12"
  }
 },
 "nbformat": 4,
 "nbformat_minor": 4
}
